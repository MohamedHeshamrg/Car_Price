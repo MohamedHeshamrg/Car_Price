{
 "cells": [
  {
   "cell_type": "code",
   "execution_count": 1,
   "id": "a143b098-1fd6-4f23-9cd0-627f3c78adf5",
   "metadata": {},
   "outputs": [],
   "source": [
    "import pandas as pd\n",
    "import numpy as np"
   ]
  },
  {
   "cell_type": "code",
   "execution_count": 2,
   "id": "d9ba1831-9932-413d-9975-50256366faf6",
   "metadata": {},
   "outputs": [
    {
     "name": "stdout",
     "output_type": "stream",
     "text": [
      "The four parts were saved successfully ✅\n"
     ]
    }
   ],
   "source": [
    "import pandas as pd\n",
    "# load dataset\n",
    "df = pd.read_csv('car_prices.csv')   \n",
    "\n",
    "# Divide the data into 4 equal parts\n",
    "chunk_size = len(df) // 4\n",
    "\n",
    "# If there are any remaining rows, we will add them to the last part.\n",
    "df1 = df.iloc[:chunk_size]\n",
    "df2 = df.iloc[chunk_size:chunk_size*2]\n",
    "df3 = df.iloc[chunk_size*2:chunk_size*3]\n",
    "df4 = df.iloc[chunk_size*3:]\n",
    "\n",
    "# Save parts in separate files\n",
    "df1.to_csv('data prosesed\\part1.csv', index=False)\n",
    "df2.to_csv('data prosesed\\part2.csv', index=False)\n",
    "df3.to_csv('\\part3.csv', index=False)\n",
    "df4.to_csv('part4.csv', index=False)\n",
    "\n",
    "print(\"The four parts were saved successfully ✅\")"
   ]
  },
  {
   "cell_type": "code",
   "execution_count": null,
   "id": "68c202e3-68dd-4d24-a6a3-71d8e12b5353",
   "metadata": {},
   "outputs": [],
   "source": []
  }
 ],
 "metadata": {
  "kernelspec": {
   "display_name": "Python 3 (ipykernel)",
   "language": "python",
   "name": "python3"
  },
  "language_info": {
   "codemirror_mode": {
    "name": "ipython",
    "version": 3
   },
   "file_extension": ".py",
   "mimetype": "text/x-python",
   "name": "python",
   "nbconvert_exporter": "python",
   "pygments_lexer": "ipython3",
   "version": "3.13.1"
  }
 },
 "nbformat": 4,
 "nbformat_minor": 5
}
