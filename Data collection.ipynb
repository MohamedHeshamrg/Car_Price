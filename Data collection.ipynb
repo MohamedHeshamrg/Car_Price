{
 "cells": [
  {
   "cell_type": "code",
   "execution_count": 1,
   "id": "d76f169e-6360-46dd-b2dc-3ec0c8d2f069",
   "metadata": {},
   "outputs": [],
   "source": [
    "import numpy as np\n",
    "import pandas as pd"
   ]
  },
  {
   "cell_type": "code",
   "execution_count": 2,
   "id": "2c49c204-ddb2-497d-b562-fc02fa67d133",
   "metadata": {},
   "outputs": [
    {
     "name": "stdout",
     "output_type": "stream",
     "text": [
      "The data has been fully collected ✅\n"
     ]
    }
   ],
   "source": [
    "# Reading parts\n",
    "df1 = pd.read_csv('part1.csv')\n",
    "df2 = pd.read_csv('part2.csv')\n",
    "df3 = pd.read_csv('part3.csv')\n",
    "df4 = pd.read_csv('part4.csv')\n",
    "\n",
    "# Merge them into one DataFrame\n",
    "df = pd.concat([df1, df2, df3, df4], ignore_index=True)\n",
    "\n",
    "\n",
    "\n",
    "print(\"The data has been fully collected ✅\")"
   ]
  },
  {
   "cell_type": "code",
   "execution_count": null,
   "id": "ca85393b-0f3a-47a4-9c31-17742628b396",
   "metadata": {},
   "outputs": [],
   "source": []
  }
 ],
 "metadata": {
  "kernelspec": {
   "display_name": "Python 3 (ipykernel)",
   "language": "python",
   "name": "python3"
  },
  "language_info": {
   "codemirror_mode": {
    "name": "ipython",
    "version": 3
   },
   "file_extension": ".py",
   "mimetype": "text/x-python",
   "name": "python",
   "nbconvert_exporter": "python",
   "pygments_lexer": "ipython3",
   "version": "3.13.1"
  }
 },
 "nbformat": 4,
 "nbformat_minor": 5
}
